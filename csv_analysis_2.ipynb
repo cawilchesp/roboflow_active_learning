{
 "cells": [
  {
   "cell_type": "markdown",
   "metadata": {},
   "source": [
    "# 0. Importar Librerías"
   ]
  },
  {
   "cell_type": "markdown",
   "metadata": {},
   "source": [
    "### Imports"
   ]
  },
  {
   "cell_type": "code",
   "execution_count": 1,
   "metadata": {},
   "outputs": [
    {
     "name": "stderr",
     "output_type": "stream",
     "text": [
      "IProgress not found. Please update jupyter and ipywidgets. See https://ipywidgets.readthedocs.io/en/stable/user_install.html\n"
     ]
    }
   ],
   "source": [
    "import supervision as sv\n",
    "from roboflow import Roboflow\n",
    "\n",
    "import os\n",
    "import cv2\n",
    "import glob\n",
    "import copy\n",
    "import pandas as pd\n",
    "from pathlib import Path\n",
    "import matplotlib.pyplot as plt\n",
    "\n",
    "from imutils.video import FileVideoStream\n",
    "\n",
    "from sinks.model_sink import ModelSink\n",
    "from sinks.annotation_sink import AnnotationSink\n",
    "\n",
    "from tools.video_info import VideoInfo\n",
    "from tools.write_data import txt_append, write_txt\n",
    "\n",
    "import roboflow_config\n",
    "\n",
    "\n",
    "from icecream import ic"
   ]
  },
  {
   "cell_type": "markdown",
   "metadata": {},
   "source": [
    "### Variables\n",
    "\n",
    "En el primer ciclo, se toma el video y se procesa con el modelo base del detector, pero en este caso se usa el modelo **yolov8x_cf_v5.pt**, modelo que tiene las clases \"person, bus, bicycle, motorcycle, truck, car\". Con esto, se obtiene el primer CSV del video, y es el que se va a analizar. Si no se cuentan con modelos entrenados, se utilizaría un modelo pre-entrenado (Ej. **yolov8x.pt**), teniendo en cuenta que estos modelos están entrenados para detectar las 80 clases del dataset Microsoft COCO."
   ]
  },
  {
   "cell_type": "code",
   "execution_count": 2,
   "metadata": {},
   "outputs": [],
   "source": [
    "ROOT = Path('D:/Data/MARZO_2024')\n",
    "SOURCE_FOLDER = ROOT / 'Videos' / 'ARS_C57_C65'\n",
    "INPUT_VIDEO = 'ARS_Iglesia_Santa_Maria_Magdalena_CAM1_new.mp4'\n",
    "SOURCE_CSV = ROOT / 'Detections' / 'ARS_C57_C65'\n",
    "INPUT_CSV = 'ARS_Iglesia_Santa_Maria_Magdalena_CAM1_new_v1.csv'\n",
    "\n",
    "SOURCES_FOLDER = ROOT / 'Videos'\n",
    "DETECTIONS_FOLDER = ROOT / 'Detections'\n",
    "DATASET_FOLDER = ROOT / 'dataset'"
   ]
  },
  {
   "cell_type": "markdown",
   "metadata": {},
   "source": [
    "### Obtener todos los archivos CSV"
   ]
  },
  {
   "cell_type": "code",
   "execution_count": 3,
   "metadata": {},
   "outputs": [
    {
     "data": {
      "text/plain": [
       "[WindowsPath('D:/Data/MARZO_2024/Detections/ARS_C57_C65/ARS_Iglesia_Santa_Maria_Magdalena_CAM1_new_v1.csv'),\n",
       " WindowsPath('D:/Data/MARZO_2024/Detections/ARS_C57_C65/ARS_Iglesia_Santa_Maria_Magdalena_CAM2_new_v1.csv'),\n",
       " WindowsPath('D:/Data/MARZO_2024/Detections/ARS_C57_C65/ARS_Iglesia_Santa_Maria_Magdalena_CAM3_new_v1.csv'),\n",
       " WindowsPath('D:/Data/MARZO_2024/Detections/ARS_C57_C65/ARS_Iglesia_Santa_Maria_Magdalena_CAM4_new_v1.csv'),\n",
       " WindowsPath('D:/Data/MARZO_2024/Detections/ARS_Iguana/ARS_Iguana_CAM1_new_v1.csv'),\n",
       " WindowsPath('D:/Data/MARZO_2024/Detections/ARS_Iguana/ARS_Iguana_CAM2_new_v1.csv'),\n",
       " WindowsPath('D:/Data/MARZO_2024/Detections/ARS_Iguana/ARS_Iguana_CAM3_new_v1.csv'),\n",
       " WindowsPath('D:/Data/MARZO_2024/Detections/ARS_SanGerman/ARS_San_German_CAM1_new_v1.csv'),\n",
       " WindowsPath('D:/Data/MARZO_2024/Detections/ARS_SanGerman/ARS_San_German_CAM2_new_v1.csv'),\n",
       " WindowsPath('D:/Data/MARZO_2024/Detections/ARS_SanPedro/ARS_Metroplus_San_Pedro_CAM1_new_v1.csv'),\n",
       " WindowsPath('D:/Data/MARZO_2024/Detections/ARS_SanPedro/ARS_Metroplus_San_Pedro_CAM2_new_v1.csv'),\n",
       " WindowsPath('D:/Data/MARZO_2024/Detections/ARS_SanPedro/ARS_Metroplus_San_Pedro_CAM3_new_v1.csv'),\n",
       " WindowsPath('D:/Data/MARZO_2024/Detections/CCTV_AKT/CCTV_AKT_new_v1.csv'),\n",
       " WindowsPath('D:/Data/MARZO_2024/Detections/CCTV_Asia/CCTV_Restaurante_Asia_new_v1.csv'),\n",
       " WindowsPath('D:/Data/MARZO_2024/Detections/CCTV_Belalcazar/CCTV_Belalcazar_new_v1.csv'),\n",
       " WindowsPath('D:/Data/MARZO_2024/Detections/CCTV_Blanquizal/CCTV_Blanquizal_new_v1.csv'),\n",
       " WindowsPath('D:/Data/MARZO_2024/Detections/CCTV_CarlosE/CCTV_Carlos_E_Restrepo_new_v1.csv'),\n",
       " WindowsPath('D:/Data/MARZO_2024/Detections/CCTV_Chuscalito/CCTV_Chuscalito_new_v1.csv'),\n",
       " WindowsPath('D:/Data/MARZO_2024/Detections/CCTV_Colcafe/CCTV_Colcafe_new_v1.csv'),\n",
       " WindowsPath('D:/Data/MARZO_2024/Detections/CCTV_Coltabaco/CCTV_Coltabaco_new_v1.csv'),\n",
       " WindowsPath('D:/Data/MARZO_2024/Detections/CCTV_Glorieta_Exposiciones/CCTV_Glorieta_Exposiciones_new_v1.csv'),\n",
       " WindowsPath('D:/Data/MARZO_2024/Detections/CCTV_High_Light/CCTV_High_Light_new_v1.csv'),\n",
       " WindowsPath('D:/Data/MARZO_2024/Detections/CCTV_Icollantas/CCTV_Icollantas_new_v1.csv'),\n",
       " WindowsPath('D:/Data/MARZO_2024/Detections/CCTV_La_Iguana/CCTV_La_Iguana_new_v1.csv'),\n",
       " WindowsPath('D:/Data/MARZO_2024/Detections/CCTV_Mico/CCTV_Puente_del_Mico_new_v1.csv'),\n",
       " WindowsPath('D:/Data/MARZO_2024/Detections/CCTV_Minitas/CCTV_Quebrada_Minitas_new_v1.csv'),\n",
       " WindowsPath('D:/Data/MARZO_2024/Detections/CCTV_PJuanes/CCTV_Parque_Juanes_new_v1.csv'),\n",
       " WindowsPath('D:/Data/MARZO_2024/Detections/CCTV_Sena/CCTV_Sena_new_v1.csv'),\n",
       " WindowsPath('D:/Data/MARZO_2024/Detections/CCTV_Suramericana/CCTV_Suramericana_new_v1.csv'),\n",
       " WindowsPath('D:/Data/MARZO_2024/Detections/CCTV_Tugo/CCTV_Tugo_new_v1.csv')]"
      ]
     },
     "execution_count": 3,
     "metadata": {},
     "output_type": "execute_result"
    }
   ],
   "source": [
    "csv_list = []\n",
    "for root, dirs, files in os.walk(Path(DETECTIONS_FOLDER)):\n",
    "    for file in files:\n",
    "        if file.endswith('v1.csv'):\n",
    "            csv_list.append(Path(root) / file)\n",
    "csv_list"
   ]
  },
  {
   "cell_type": "code",
   "execution_count": 4,
   "metadata": {},
   "outputs": [
    {
     "data": {
      "text/plain": [
       "[WindowsPath('D:/Data/MARZO_2024/Videos/ARS_C57_C65/ARS_Iglesia_Santa_Maria_Magdalena_CAM1_new.mp4'),\n",
       " WindowsPath('D:/Data/MARZO_2024/Videos/ARS_C57_C65/ARS_Iglesia_Santa_Maria_Magdalena_CAM2_new.mp4'),\n",
       " WindowsPath('D:/Data/MARZO_2024/Videos/ARS_C57_C65/ARS_Iglesia_Santa_Maria_Magdalena_CAM3_new.mp4'),\n",
       " WindowsPath('D:/Data/MARZO_2024/Videos/ARS_C57_C65/ARS_Iglesia_Santa_Maria_Magdalena_CAM4_new.mp4'),\n",
       " WindowsPath('D:/Data/MARZO_2024/Videos/ARS_Iguana/ARS_Iguana_CAM1_new.mp4'),\n",
       " WindowsPath('D:/Data/MARZO_2024/Videos/ARS_Iguana/ARS_Iguana_CAM2_new.mp4'),\n",
       " WindowsPath('D:/Data/MARZO_2024/Videos/ARS_Iguana/ARS_Iguana_CAM3_new.mp4'),\n",
       " WindowsPath('D:/Data/MARZO_2024/Videos/ARS_SanGerman/ARS_San_German_CAM1_new.mp4'),\n",
       " WindowsPath('D:/Data/MARZO_2024/Videos/ARS_SanGerman/ARS_San_German_CAM2_new.mp4'),\n",
       " WindowsPath('D:/Data/MARZO_2024/Videos/ARS_SanPedro/ARS_Metroplus_San_Pedro_CAM1_new.mp4'),\n",
       " WindowsPath('D:/Data/MARZO_2024/Videos/ARS_SanPedro/ARS_Metroplus_San_Pedro_CAM2_new.mp4'),\n",
       " WindowsPath('D:/Data/MARZO_2024/Videos/ARS_SanPedro/ARS_Metroplus_San_Pedro_CAM3_new.mp4'),\n",
       " WindowsPath('D:/Data/MARZO_2024/Videos/CCTV_AKT/CCTV_AKT_new.mp4'),\n",
       " WindowsPath('D:/Data/MARZO_2024/Videos/CCTV_Asia/CCTV_Restaurante_Asia_new.mp4'),\n",
       " WindowsPath('D:/Data/MARZO_2024/Videos/CCTV_Belalcazar/CCTV_Belalcazar_new.mp4'),\n",
       " WindowsPath('D:/Data/MARZO_2024/Videos/CCTV_Blanquizal/CCTV_Blanquizal_new.mp4'),\n",
       " WindowsPath('D:/Data/MARZO_2024/Videos/CCTV_CarlosE/CCTV_Carlos_E_Restrepo_new.mp4'),\n",
       " WindowsPath('D:/Data/MARZO_2024/Videos/CCTV_Chuscalito/CCTV_Chuscalito_new.mp4'),\n",
       " WindowsPath('D:/Data/MARZO_2024/Videos/CCTV_Colcafe/CCTV_Colcafe_new.mp4'),\n",
       " WindowsPath('D:/Data/MARZO_2024/Videos/CCTV_Coltabaco/CCTV_Coltabaco_new.mp4'),\n",
       " WindowsPath('D:/Data/MARZO_2024/Videos/CCTV_Glorieta_Exposiciones/CCTV_Glorieta_Exposiciones_new.mp4'),\n",
       " WindowsPath('D:/Data/MARZO_2024/Videos/CCTV_High_Light/CCTV_High_Light_new.mp4'),\n",
       " WindowsPath('D:/Data/MARZO_2024/Videos/CCTV_Icollantas/CCTV_Icollantas_new.mp4'),\n",
       " WindowsPath('D:/Data/MARZO_2024/Videos/CCTV_La_Iguana/CCTV_La_Iguana_new.mp4'),\n",
       " WindowsPath('D:/Data/MARZO_2024/Videos/CCTV_Mico/CCTV_Puente_del_Mico_new.mp4'),\n",
       " WindowsPath('D:/Data/MARZO_2024/Videos/CCTV_Minitas/CCTV_Quebrada_Minitas_new.mp4'),\n",
       " WindowsPath('D:/Data/MARZO_2024/Videos/CCTV_PJuanes/CCTV_Parque_Juanes_new.mp4'),\n",
       " WindowsPath('D:/Data/MARZO_2024/Videos/CCTV_Sena/CCTV_Sena_new.mp4'),\n",
       " WindowsPath('D:/Data/MARZO_2024/Videos/CCTV_Suramericana/CCTV_Suramericana_new.mp4'),\n",
       " WindowsPath('D:/Data/MARZO_2024/Videos/CCTV_Tugo/CCTV_Tugo_new.mp4')]"
      ]
     },
     "execution_count": 4,
     "metadata": {},
     "output_type": "execute_result"
    }
   ],
   "source": [
    "mp4_list = []\n",
    "for root, dirs, files in os.walk(Path(SOURCES_FOLDER)):\n",
    "    for file in files:\n",
    "        if file.endswith('.mp4'):\n",
    "            mp4_list.append(Path(root) / file)\n",
    "mp4_list"
   ]
  },
  {
   "cell_type": "code",
   "execution_count": 5,
   "metadata": {},
   "outputs": [
    {
     "name": "stderr",
     "output_type": "stream",
     "text": [
      "ic| number: [30]\n"
     ]
    },
    {
     "data": {
      "text/plain": [
       "[30]"
      ]
     },
     "execution_count": 5,
     "metadata": {},
     "output_type": "execute_result"
    }
   ],
   "source": [
    "with open(csv_list[0], 'r') as csv_file:\n",
    "    csv_data = pd.read_csv(\n",
    "        filepath_or_buffer=csv_file,\n",
    "        sep=',',\n",
    "        names=['frame', 'id', 'class', 'x', 'y', 'w', 'h', 'score'],\n",
    "        header=None,\n",
    "        index_col=False\n",
    "    )\n",
    "data_analysis = csv_data.groupby('frame').agg(detection_number=('frame', 'size'),classes=('class', lambda x: list(x.unique())),class_number=('class',lambda x: len(list(x.unique()))),mean_score=('score', 'mean')).reset_index()\n",
    "data_underscores = data_analysis.sort_values(['class_number', 'detection_number', 'mean_score'], ascending=[False, False, True])\n",
    "selected_frame = data_underscores.head(1)\n",
    "number = selected_frame['frame'].to_list()\n",
    "ic(number)"
   ]
  },
  {
   "cell_type": "markdown",
   "metadata": {},
   "source": [
    "### Procesar el archivo y obtener el mejor frame"
   ]
  },
  {
   "cell_type": "code",
   "execution_count": 6,
   "metadata": {},
   "outputs": [
    {
     "data": {
      "text/plain": [
       "[[WindowsPath('D:/Data/MARZO_2024/Detections/ARS_C57_C65/ARS_Iglesia_Santa_Maria_Magdalena_CAM1_new_v1.csv'),\n",
       "  WindowsPath('D:/Data/MARZO_2024/Videos/ARS_C57_C65/ARS_Iglesia_Santa_Maria_Magdalena_CAM1_new.mp4'),\n",
       "  30],\n",
       " [WindowsPath('D:/Data/MARZO_2024/Detections/ARS_C57_C65/ARS_Iglesia_Santa_Maria_Magdalena_CAM2_new_v1.csv'),\n",
       "  WindowsPath('D:/Data/MARZO_2024/Videos/ARS_C57_C65/ARS_Iglesia_Santa_Maria_Magdalena_CAM2_new.mp4'),\n",
       "  22],\n",
       " [WindowsPath('D:/Data/MARZO_2024/Detections/ARS_C57_C65/ARS_Iglesia_Santa_Maria_Magdalena_CAM3_new_v1.csv'),\n",
       "  WindowsPath('D:/Data/MARZO_2024/Videos/ARS_C57_C65/ARS_Iglesia_Santa_Maria_Magdalena_CAM3_new.mp4'),\n",
       "  16],\n",
       " [WindowsPath('D:/Data/MARZO_2024/Detections/ARS_C57_C65/ARS_Iglesia_Santa_Maria_Magdalena_CAM4_new_v1.csv'),\n",
       "  WindowsPath('D:/Data/MARZO_2024/Videos/ARS_C57_C65/ARS_Iglesia_Santa_Maria_Magdalena_CAM4_new.mp4'),\n",
       "  1],\n",
       " [WindowsPath('D:/Data/MARZO_2024/Detections/ARS_Iguana/ARS_Iguana_CAM1_new_v1.csv'),\n",
       "  WindowsPath('D:/Data/MARZO_2024/Videos/ARS_Iguana/ARS_Iguana_CAM1_new.mp4'),\n",
       "  59],\n",
       " [WindowsPath('D:/Data/MARZO_2024/Detections/ARS_Iguana/ARS_Iguana_CAM2_new_v1.csv'),\n",
       "  WindowsPath('D:/Data/MARZO_2024/Videos/ARS_Iguana/ARS_Iguana_CAM2_new.mp4'),\n",
       "  42],\n",
       " [WindowsPath('D:/Data/MARZO_2024/Detections/ARS_Iguana/ARS_Iguana_CAM3_new_v1.csv'),\n",
       "  WindowsPath('D:/Data/MARZO_2024/Videos/ARS_Iguana/ARS_Iguana_CAM3_new.mp4'),\n",
       "  82],\n",
       " [WindowsPath('D:/Data/MARZO_2024/Detections/ARS_SanGerman/ARS_San_German_CAM1_new_v1.csv'),\n",
       "  WindowsPath('D:/Data/MARZO_2024/Videos/ARS_SanGerman/ARS_San_German_CAM1_new.mp4'),\n",
       "  64],\n",
       " [WindowsPath('D:/Data/MARZO_2024/Detections/ARS_SanGerman/ARS_San_German_CAM2_new_v1.csv'),\n",
       "  WindowsPath('D:/Data/MARZO_2024/Videos/ARS_SanGerman/ARS_San_German_CAM2_new.mp4'),\n",
       "  33],\n",
       " [WindowsPath('D:/Data/MARZO_2024/Detections/ARS_SanPedro/ARS_Metroplus_San_Pedro_CAM1_new_v1.csv'),\n",
       "  WindowsPath('D:/Data/MARZO_2024/Videos/ARS_SanPedro/ARS_Metroplus_San_Pedro_CAM1_new.mp4'),\n",
       "  96],\n",
       " [WindowsPath('D:/Data/MARZO_2024/Detections/ARS_SanPedro/ARS_Metroplus_San_Pedro_CAM2_new_v1.csv'),\n",
       "  WindowsPath('D:/Data/MARZO_2024/Videos/ARS_SanPedro/ARS_Metroplus_San_Pedro_CAM2_new.mp4'),\n",
       "  15],\n",
       " [WindowsPath('D:/Data/MARZO_2024/Detections/ARS_SanPedro/ARS_Metroplus_San_Pedro_CAM3_new_v1.csv'),\n",
       "  WindowsPath('D:/Data/MARZO_2024/Videos/ARS_SanPedro/ARS_Metroplus_San_Pedro_CAM3_new.mp4'),\n",
       "  74],\n",
       " [WindowsPath('D:/Data/MARZO_2024/Detections/CCTV_AKT/CCTV_AKT_new_v1.csv'),\n",
       "  WindowsPath('D:/Data/MARZO_2024/Videos/CCTV_AKT/CCTV_AKT_new.mp4'),\n",
       "  99],\n",
       " [WindowsPath('D:/Data/MARZO_2024/Detections/CCTV_Asia/CCTV_Restaurante_Asia_new_v1.csv'),\n",
       "  WindowsPath('D:/Data/MARZO_2024/Videos/CCTV_Asia/CCTV_Restaurante_Asia_new.mp4'),\n",
       "  82],\n",
       " [WindowsPath('D:/Data/MARZO_2024/Detections/CCTV_Belalcazar/CCTV_Belalcazar_new_v1.csv'),\n",
       "  WindowsPath('D:/Data/MARZO_2024/Videos/CCTV_Belalcazar/CCTV_Belalcazar_new.mp4'),\n",
       "  91],\n",
       " [WindowsPath('D:/Data/MARZO_2024/Detections/CCTV_Blanquizal/CCTV_Blanquizal_new_v1.csv'),\n",
       "  WindowsPath('D:/Data/MARZO_2024/Videos/CCTV_Blanquizal/CCTV_Blanquizal_new.mp4'),\n",
       "  29],\n",
       " [WindowsPath('D:/Data/MARZO_2024/Detections/CCTV_CarlosE/CCTV_Carlos_E_Restrepo_new_v1.csv'),\n",
       "  WindowsPath('D:/Data/MARZO_2024/Videos/CCTV_CarlosE/CCTV_Carlos_E_Restrepo_new.mp4'),\n",
       "  7],\n",
       " [WindowsPath('D:/Data/MARZO_2024/Detections/CCTV_Chuscalito/CCTV_Chuscalito_new_v1.csv'),\n",
       "  WindowsPath('D:/Data/MARZO_2024/Videos/CCTV_Chuscalito/CCTV_Chuscalito_new.mp4'),\n",
       "  41],\n",
       " [WindowsPath('D:/Data/MARZO_2024/Detections/CCTV_Colcafe/CCTV_Colcafe_new_v1.csv'),\n",
       "  WindowsPath('D:/Data/MARZO_2024/Videos/CCTV_Colcafe/CCTV_Colcafe_new.mp4'),\n",
       "  35],\n",
       " [WindowsPath('D:/Data/MARZO_2024/Detections/CCTV_Coltabaco/CCTV_Coltabaco_new_v1.csv'),\n",
       "  WindowsPath('D:/Data/MARZO_2024/Videos/CCTV_Coltabaco/CCTV_Coltabaco_new.mp4'),\n",
       "  39],\n",
       " [WindowsPath('D:/Data/MARZO_2024/Detections/CCTV_Glorieta_Exposiciones/CCTV_Glorieta_Exposiciones_new_v1.csv'),\n",
       "  WindowsPath('D:/Data/MARZO_2024/Videos/CCTV_Glorieta_Exposiciones/CCTV_Glorieta_Exposiciones_new.mp4'),\n",
       "  6],\n",
       " [WindowsPath('D:/Data/MARZO_2024/Detections/CCTV_High_Light/CCTV_High_Light_new_v1.csv'),\n",
       "  WindowsPath('D:/Data/MARZO_2024/Videos/CCTV_High_Light/CCTV_High_Light_new.mp4'),\n",
       "  25],\n",
       " [WindowsPath('D:/Data/MARZO_2024/Detections/CCTV_Icollantas/CCTV_Icollantas_new_v1.csv'),\n",
       "  WindowsPath('D:/Data/MARZO_2024/Videos/CCTV_Icollantas/CCTV_Icollantas_new.mp4'),\n",
       "  4],\n",
       " [WindowsPath('D:/Data/MARZO_2024/Detections/CCTV_La_Iguana/CCTV_La_Iguana_new_v1.csv'),\n",
       "  WindowsPath('D:/Data/MARZO_2024/Videos/CCTV_La_Iguana/CCTV_La_Iguana_new.mp4'),\n",
       "  87],\n",
       " [WindowsPath('D:/Data/MARZO_2024/Detections/CCTV_Mico/CCTV_Puente_del_Mico_new_v1.csv'),\n",
       "  WindowsPath('D:/Data/MARZO_2024/Videos/CCTV_Mico/CCTV_Puente_del_Mico_new.mp4'),\n",
       "  46],\n",
       " [WindowsPath('D:/Data/MARZO_2024/Detections/CCTV_Minitas/CCTV_Quebrada_Minitas_new_v1.csv'),\n",
       "  WindowsPath('D:/Data/MARZO_2024/Videos/CCTV_Minitas/CCTV_Quebrada_Minitas_new.mp4'),\n",
       "  31],\n",
       " [WindowsPath('D:/Data/MARZO_2024/Detections/CCTV_PJuanes/CCTV_Parque_Juanes_new_v1.csv'),\n",
       "  WindowsPath('D:/Data/MARZO_2024/Videos/CCTV_PJuanes/CCTV_Parque_Juanes_new.mp4'),\n",
       "  39],\n",
       " [WindowsPath('D:/Data/MARZO_2024/Detections/CCTV_Sena/CCTV_Sena_new_v1.csv'),\n",
       "  WindowsPath('D:/Data/MARZO_2024/Videos/CCTV_Sena/CCTV_Sena_new.mp4'),\n",
       "  56],\n",
       " [WindowsPath('D:/Data/MARZO_2024/Detections/CCTV_Suramericana/CCTV_Suramericana_new_v1.csv'),\n",
       "  WindowsPath('D:/Data/MARZO_2024/Videos/CCTV_Suramericana/CCTV_Suramericana_new.mp4'),\n",
       "  52],\n",
       " [WindowsPath('D:/Data/MARZO_2024/Detections/CCTV_Tugo/CCTV_Tugo_new_v1.csv'),\n",
       "  WindowsPath('D:/Data/MARZO_2024/Videos/CCTV_Tugo/CCTV_Tugo_new.mp4'),\n",
       "  7]]"
      ]
     },
     "execution_count": 6,
     "metadata": {},
     "output_type": "execute_result"
    }
   ],
   "source": [
    "frame_list = []\n",
    "for data_file, video_file in zip(csv_list, mp4_list):\n",
    "    with open(data_file, 'r') as csv_file:\n",
    "        csv_data = pd.read_csv(\n",
    "            filepath_or_buffer=csv_file,\n",
    "            sep=',',\n",
    "            names=['frame', 'id', 'class', 'x', 'y', 'w', 'h', 'score'],\n",
    "            header=None,\n",
    "            index_col=False\n",
    "        )\n",
    "    data_analysis = csv_data.groupby('frame').agg(detection_number=('frame', 'size'),classes=('class', lambda x: list(x.unique())),class_number=('class',lambda x: len(list(x.unique()))),mean_score=('score', 'mean')).reset_index()\n",
    "    # data_classfilter = data_analysis[data_analysis['classes'].apply(lambda x: 'person' in x or 'bicycle' in x)]\n",
    "    data_underscores = data_analysis.sort_values(['class_number', 'detection_number', 'mean_score'], ascending=[False, False, True])\n",
    "    selected_frame = data_underscores.head(1)\n",
    "    number = selected_frame['frame'].to_list()\n",
    "    frame_list.append([data_file, video_file, number[0]])\n",
    "frame_list"
   ]
  },
  {
   "cell_type": "markdown",
   "metadata": {},
   "source": [
    "### Captura de frames"
   ]
  },
  {
   "cell_type": "code",
   "execution_count": 8,
   "metadata": {},
   "outputs": [
    {
     "name": "stdout",
     "output_type": "stream",
     "text": [
      "Video: D:\\Data\\MARZO_2024\\Videos\\ARS_C57_C65\\ARS_Iglesia_Santa_Maria_Magdalena_CAM1_new.mp4, Selected Frame: 30\n",
      "Video 0, Frame 30\n",
      "Video: D:\\Data\\MARZO_2024\\Videos\\ARS_C57_C65\\ARS_Iglesia_Santa_Maria_Magdalena_CAM2_new.mp4, Selected Frame: 22\n",
      "Video 1, Frame 22\n",
      "Video: D:\\Data\\MARZO_2024\\Videos\\ARS_C57_C65\\ARS_Iglesia_Santa_Maria_Magdalena_CAM3_new.mp4, Selected Frame: 16\n",
      "Video 2, Frame 16\n",
      "Video: D:\\Data\\MARZO_2024\\Videos\\ARS_C57_C65\\ARS_Iglesia_Santa_Maria_Magdalena_CAM4_new.mp4, Selected Frame: 1\n",
      "Video 3, Frame 1\n",
      "Video: D:\\Data\\MARZO_2024\\Videos\\ARS_Iguana\\ARS_Iguana_CAM1_new.mp4, Selected Frame: 59\n",
      "Video 4, Frame 59\n",
      "Video: D:\\Data\\MARZO_2024\\Videos\\ARS_Iguana\\ARS_Iguana_CAM2_new.mp4, Selected Frame: 42\n",
      "Video 5, Frame 42\n",
      "Video: D:\\Data\\MARZO_2024\\Videos\\ARS_Iguana\\ARS_Iguana_CAM3_new.mp4, Selected Frame: 82\n",
      "Video 6, Frame 82\n",
      "Video: D:\\Data\\MARZO_2024\\Videos\\ARS_SanGerman\\ARS_San_German_CAM1_new.mp4, Selected Frame: 64\n",
      "Video 7, Frame 64\n",
      "Video: D:\\Data\\MARZO_2024\\Videos\\ARS_SanGerman\\ARS_San_German_CAM2_new.mp4, Selected Frame: 33\n",
      "Video 8, Frame 33\n",
      "Video: D:\\Data\\MARZO_2024\\Videos\\ARS_SanPedro\\ARS_Metroplus_San_Pedro_CAM1_new.mp4, Selected Frame: 96\n",
      "Video 9, Frame 96\n",
      "Video: D:\\Data\\MARZO_2024\\Videos\\ARS_SanPedro\\ARS_Metroplus_San_Pedro_CAM2_new.mp4, Selected Frame: 15\n",
      "Video 10, Frame 15\n",
      "Video: D:\\Data\\MARZO_2024\\Videos\\ARS_SanPedro\\ARS_Metroplus_San_Pedro_CAM3_new.mp4, Selected Frame: 74\n",
      "Video 11, Frame 74\n",
      "Video: D:\\Data\\MARZO_2024\\Videos\\CCTV_AKT\\CCTV_AKT_new.mp4, Selected Frame: 99\n",
      "Video 12, Frame 99\n",
      "Video: D:\\Data\\MARZO_2024\\Videos\\CCTV_Asia\\CCTV_Restaurante_Asia_new.mp4, Selected Frame: 82\n",
      "Video 13, Frame 82\n",
      "Video: D:\\Data\\MARZO_2024\\Videos\\CCTV_Belalcazar\\CCTV_Belalcazar_new.mp4, Selected Frame: 91\n",
      "Video 14, Frame 91\n",
      "Video: D:\\Data\\MARZO_2024\\Videos\\CCTV_Blanquizal\\CCTV_Blanquizal_new.mp4, Selected Frame: 29\n",
      "Video 15, Frame 29\n",
      "Video: D:\\Data\\MARZO_2024\\Videos\\CCTV_CarlosE\\CCTV_Carlos_E_Restrepo_new.mp4, Selected Frame: 7\n",
      "Video 16, Frame 7\n",
      "Video: D:\\Data\\MARZO_2024\\Videos\\CCTV_Chuscalito\\CCTV_Chuscalito_new.mp4, Selected Frame: 41\n",
      "Video 17, Frame 41\n",
      "Video: D:\\Data\\MARZO_2024\\Videos\\CCTV_Colcafe\\CCTV_Colcafe_new.mp4, Selected Frame: 35\n",
      "Video 18, Frame 35\n",
      "Video: D:\\Data\\MARZO_2024\\Videos\\CCTV_Coltabaco\\CCTV_Coltabaco_new.mp4, Selected Frame: 39\n",
      "Video 19, Frame 39\n",
      "Video: D:\\Data\\MARZO_2024\\Videos\\CCTV_Glorieta_Exposiciones\\CCTV_Glorieta_Exposiciones_new.mp4, Selected Frame: 6\n",
      "Video 20, Frame 6\n",
      "Video: D:\\Data\\MARZO_2024\\Videos\\CCTV_High_Light\\CCTV_High_Light_new.mp4, Selected Frame: 25\n",
      "Video 21, Frame 25\n",
      "Video: D:\\Data\\MARZO_2024\\Videos\\CCTV_Icollantas\\CCTV_Icollantas_new.mp4, Selected Frame: 4\n",
      "Video 22, Frame 4\n",
      "Video: D:\\Data\\MARZO_2024\\Videos\\CCTV_La_Iguana\\CCTV_La_Iguana_new.mp4, Selected Frame: 87\n",
      "Video 23, Frame 87\n",
      "Video: D:\\Data\\MARZO_2024\\Videos\\CCTV_Mico\\CCTV_Puente_del_Mico_new.mp4, Selected Frame: 46\n",
      "Video 24, Frame 46\n",
      "Video: D:\\Data\\MARZO_2024\\Videos\\CCTV_Minitas\\CCTV_Quebrada_Minitas_new.mp4, Selected Frame: 31\n",
      "Video 25, Frame 31\n",
      "Video: D:\\Data\\MARZO_2024\\Videos\\CCTV_PJuanes\\CCTV_Parque_Juanes_new.mp4, Selected Frame: 39\n",
      "Video 26, Frame 39\n",
      "Video: D:\\Data\\MARZO_2024\\Videos\\CCTV_Sena\\CCTV_Sena_new.mp4, Selected Frame: 56\n",
      "Video 27, Frame 56\n",
      "Video: D:\\Data\\MARZO_2024\\Videos\\CCTV_Suramericana\\CCTV_Suramericana_new.mp4, Selected Frame: 52\n",
      "Video 28, Frame 52\n",
      "Video: D:\\Data\\MARZO_2024\\Videos\\CCTV_Tugo\\CCTV_Tugo_new.mp4, Selected Frame: 7\n",
      "Video 29, Frame 7\n"
     ]
    }
   ],
   "source": [
    "os.mkdir(Path(f\"{DATASET_FOLDER}\"))\n",
    "os.mkdir(Path(f\"{DATASET_FOLDER}/labels\"))\n",
    "os.mkdir(Path(f\"{DATASET_FOLDER}/images\"))\n",
    "os.mkdir(Path(f\"{DATASET_FOLDER}/detections\"))\n",
    "image_name_pattern: str = \"image_{:07d}\"\n",
    "weights = 'D:/Data/models/yolov10/yolov10b_v1_30.pt'\n",
    "detection_sink = ModelSink(\n",
    "    weights_path=weights,\n",
    "    confidence=0.1,\n",
    "    # class_filter=[0,1,2,3,5,7]\n",
    ")\n",
    "source_info = VideoInfo(width=1920,height=1080)\n",
    "annotation_sink = AnnotationSink(\n",
    "    source_info=source_info,\n",
    "    fps=False,\n",
    ")\n",
    "video_count = 0\n",
    "for _, source_video, selected_frame in frame_list:\n",
    "    print(f\"Video: {source_video}, Selected Frame: {selected_frame}\")\n",
    "    frame_number = 0\n",
    "    video_stream = FileVideoStream(str(Path(source_video)))\n",
    "    video_stream.start()\n",
    "    while video_stream.more():\n",
    "        print(f\"Frame: {frame_number}\", end='\\r', flush=True)\n",
    "        output_data = []\n",
    "        image = video_stream.read()\n",
    "        if image is None:\n",
    "            print()\n",
    "            break\n",
    "        \n",
    "        if frame_number == selected_frame:\n",
    "            annotated_image = image.copy()\n",
    "\n",
    "            results = detection_sink.detect(scene=annotated_image)\n",
    "\n",
    "            output_data = txt_append(output_data, results)\n",
    "\n",
    "            detections = sv.Detections.from_ultralytics(results)\n",
    "\n",
    "            annotated_image = annotation_sink.on_detections(detections=detections, scene=annotated_image)\n",
    "\n",
    "            write_txt(f\"{DATASET_FOLDER}/labels/{video_count}{image_name_pattern.format(frame_number)}.txt\", output_data)\n",
    "            cv2.imwrite(f\"{DATASET_FOLDER}/images/{video_count}{image_name_pattern.format(frame_number)}.png\", image)\n",
    "            cv2.imwrite(f\"{DATASET_FOLDER}/detections/{video_count}{image_name_pattern.format(frame_number)}.png\", annotated_image)\n",
    "            print(f\"Video {video_count}, Frame {frame_number}\")\n",
    "            break\n",
    "            \n",
    "        frame_number += 1\n",
    "    video_stream.stop()\n",
    "    video_count += 1\n",
    "\n"
   ]
  },
  {
   "cell_type": "markdown",
   "metadata": {},
   "source": [
    "### Construir labelmap"
   ]
  },
  {
   "cell_type": "code",
   "execution_count": 9,
   "metadata": {},
   "outputs": [],
   "source": [
    "dataset_names= {\n",
    "    0: 'bicycle',\n",
    "    1: 'bus',\n",
    "    2: 'car',\n",
    "    3: 'motorbike',\n",
    "    4: 'person',\n",
    "    5: 'truck'\n",
    "}\n",
    "for values in dataset_names.values():\n",
    "    with open(f\"{DATASET_FOLDER}/labelmap.txt\", 'a') as txt_file:\n",
    "        txt_file.write(f\"{values}\\n\")"
   ]
  },
  {
   "cell_type": "markdown",
   "metadata": {},
   "source": [
    "### Transferir a Roboflow"
   ]
  },
  {
   "cell_type": "code",
   "execution_count": 3,
   "metadata": {},
   "outputs": [
    {
     "name": "stdout",
     "output_type": "stream",
     "text": [
      "loading Roboflow workspace...\n",
      "{\n",
      "  \"name\": \"Carlos Andr\\u00e9s Wilches P\\u00e9rez\",\n",
      "  \"url\": \"carlos-andres-wilches-perez\",\n",
      "  \"projects\": [\n",
      "    \"carlos-andres-wilches-perez/camaras_fijas\",\n",
      "    \"carlos-andres-wilches-perez/cct-drone\",\n",
      "    \"carlos-andres-wilches-perez/elementos-de-proteccion-personal-id6zs\",\n",
      "    \"carlos-andres-wilches-perez/tejo-tracking\",\n",
      "    \"carlos-andres-wilches-perez/vehiculos_2024\",\n",
      "    \"carlos-andres-wilches-perez/videos_2024\"\n",
      "  ]\n",
      "}\n"
     ]
    }
   ],
   "source": [
    "rf = Roboflow(api_key=roboflow_config.API_KEY)\n",
    "print(rf.workspace())"
   ]
  },
  {
   "cell_type": "markdown",
   "metadata": {},
   "source": [
    "### Configuración del dataset"
   ]
  },
  {
   "cell_type": "code",
   "execution_count": 4,
   "metadata": {},
   "outputs": [
    {
     "name": "stdout",
     "output_type": "stream",
     "text": [
      "loading Roboflow workspace...\n",
      "loading Roboflow project...\n",
      "{\n",
      "  \"name\": \"vehiculos_2024\",\n",
      "  \"type\": \"object-detection\",\n",
      "  \"workspace\": \"carlos-andres-wilches-perez\"\n",
      "}\n"
     ]
    }
   ],
   "source": [
    "PROJECT_ID = 'vehiculos_2024'\n",
    "project = rf.workspace().project(PROJECT_ID)\n",
    "print(project)"
   ]
  },
  {
   "cell_type": "code",
   "execution_count": 5,
   "metadata": {},
   "outputs": [
    {
     "name": "stdout",
     "output_type": "stream",
     "text": [
      "0image_0000030\n",
      "10image_0000015\n",
      "11image_0000074\n",
      "12image_0000099\n",
      "13image_0000082\n",
      "14image_0000091\n",
      "15image_0000029\n",
      "16image_0000007\n",
      "17image_0000041\n",
      "18image_0000035\n",
      "19image_0000039\n",
      "1image_0000022\n",
      "20image_0000006\n",
      "21image_0000025\n",
      "22image_0000004\n",
      "23image_0000087\n",
      "24image_0000046\n",
      "25image_0000031\n",
      "26image_0000039\n",
      "27image_0000056\n",
      "28image_0000052\n",
      "29image_0000007\n",
      "2image_0000016\n",
      "3image_0000001\n",
      "4image_0000059\n",
      "5image_0000042\n",
      "6image_0000082\n",
      "7image_0000064\n",
      "8image_0000033\n",
      "9image_0000096\n"
     ]
    }
   ],
   "source": [
    "images = os.listdir(Path(f\"{DATASET_FOLDER}/images\"))\n",
    "for image in images:\n",
    "    print(Path(image).stem)\n",
    "    project.single_upload(\n",
    "        batch_name='video3',\n",
    "        image_path=f\"{DATASET_FOLDER}/images/{Path(image).stem}.png\",\n",
    "        annotation_path=f\"{DATASET_FOLDER}/labels/{Path(image).stem}.txt\",\n",
    "        annotation_labelmap=f\"{DATASET_FOLDER}/labelmap.txt\",\n",
    "    )"
   ]
  }
 ],
 "metadata": {
  "kernelspec": {
   "display_name": "vision",
   "language": "python",
   "name": "python3"
  },
  "language_info": {
   "codemirror_mode": {
    "name": "ipython",
    "version": 3
   },
   "file_extension": ".py",
   "mimetype": "text/x-python",
   "name": "python",
   "nbconvert_exporter": "python",
   "pygments_lexer": "ipython3",
   "version": "3.11.9"
  }
 },
 "nbformat": 4,
 "nbformat_minor": 2
}
